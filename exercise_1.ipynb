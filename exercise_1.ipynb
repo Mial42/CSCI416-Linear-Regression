{
  "cells": [
    {
      "cell_type": "markdown",
      "metadata": {
        "id": "fZbH-SJS9Kxd"
      },
      "source": [
        "# CSCI 416 - HW1\n",
        "\n",
        "### Name: Nicholas Wilson"
      ],
      "id": "fZbH-SJS9Kxd"
    },
    {
      "cell_type": "code",
      "execution_count": null,
      "metadata": {
        "id": "AKc56hVC9Kxh"
      },
      "outputs": [],
      "source": [],
      "id": "AKc56hVC9Kxh"
    },
    {
      "cell_type": "markdown",
      "metadata": {
        "id": "u7cKjmFj9Kxi"
      },
      "source": [
        "# <font color='red'>Problem 4</font>"
      ],
      "id": "u7cKjmFj9Kxi"
    },
    {
      "cell_type": "code",
      "execution_count": null,
      "metadata": {
        "id": "T2hEqbMf9Kxk"
      },
      "outputs": [],
      "source": [
        "%matplotlib inline\n",
        "\n",
        "%load_ext autoreload\n",
        "%autoreload 2\n",
        "\n",
        "\n",
        "import numpy as np\n",
        "import matplotlib.pyplot as plt\n",
        "from IPython.display import display, clear_output\n"
      ],
      "id": "T2hEqbMf9Kxk"
    },
    {
      "cell_type": "code",
      "execution_count": 40,
      "metadata": {
        "id": "bH5lqsWL9Kxk",
        "colab": {
          "base_uri": "https://localhost:8080/"
        },
        "outputId": "f49f9539-e943-4133-d2c0-6eb12a00ff3a"
      },
      "outputs": [
        {
          "output_type": "stream",
          "name": "stdout",
          "text": [
            "Part 1: \n",
            "[[-2 -3]\n",
            " [ 1  0]]\n",
            "[[1 1]\n",
            " [1 0]]\n",
            "[[-1], [1]]\n",
            "Part 2: \n",
            "[[-0.          1.        ]\n",
            " [-0.33333333 -0.66666667]]\n",
            "Part 3: \n",
            "[[ 1.00000000e+00 -1.11022302e-16]\n",
            " [ 0.00000000e+00  1.00000000e+00]]\n",
            "[[1. 0.]\n",
            " [0. 1.]]\n",
            "Part 4: \n",
            "[[-1]\n",
            " [-1]]\n",
            "Part 5: \n",
            "[[5 6]\n",
            " [6 9]]\n",
            "Part 6: \n",
            "[[-1]\n",
            " [ 0]]\n",
            "Part 7: \n",
            "[[1.41421356]]\n",
            "Part 8: \n",
            "1.0\n",
            "Part 9: \n",
            "[-2  1]\n",
            "Part 10: \n",
            "[[-1  1]\n",
            " [ 1  0]]\n",
            "Part 11: \n",
            "[6 0]\n"
          ]
        }
      ],
      "source": [
        "#Question 4 Part 1\n",
        "A = np.array([[-2, -3],[1,0]])\n",
        "B = np.array([[1, 1],[1,0]])\n",
        "x = ([[-1], [1]])\n",
        "print(\"Part 1: \")\n",
        "print(A)\n",
        "print(B)\n",
        "print(x)\n",
        "#Question 4 Part 2 (inverse)\n",
        "print(\"Part 2: \")\n",
        "C = np.linalg.inv(A)\n",
        "print(C)\n",
        "#Question 4 Part 3 (matrix multiplication)\n",
        "print(\"Part 3: \")\n",
        "print(np.matmul(A,C))\n",
        "print(np.matmul(C,A))\n",
        "#Question 4 Part 4\n",
        "print(\"Part 4: \")\n",
        "print(np.matmul(A,x))\n",
        "#Question 4 Part 5 (Transpose)\n",
        "print(\"Part 5: \")\n",
        "print(np.matmul(np.transpose(A), A))\n",
        "#Question 4 Part 6\n",
        "print(\"Part 6: \")\n",
        "print(np.matmul(A,x) - np.matmul(B,x))\n",
        "#Question 4 Part 7 (norm, dot product) TODO need to square root\n",
        "print(\"Part 7: \")\n",
        "print(np.sqrt(np.dot(np.transpose(x),x)))\n",
        "#Question 4 Part 8 (norm) TODO need to square root\n",
        "#print(np.dot(np.transpose(np.matmul(A,x) - np.matmul(B,x)), np.matmul(A,x) - np.matmul(B,x)))\n",
        "print(\"Part 8: \")\n",
        "print(np.linalg.norm(np.matmul(A,x) - np.matmul(B,x)))\n",
        "#Question 4 Part 9 (output first column of A)\n",
        "print(\"Part 9: \")\n",
        "print(A[:,0])\n",
        "#Question 4 Part 10 (assign x to first column of B)\n",
        "print(\"Part 10: \")\n",
        "B[:,0] = np.transpose(x)\n",
        "print(B)\n",
        "#Question 4 Part 11\n",
        "print(\"Part 11: \")\n",
        "print(np.multiply(A[:,0], A[:,1]))"
      ],
      "id": "bH5lqsWL9Kxk"
    },
    {
      "cell_type": "code",
      "execution_count": null,
      "metadata": {
        "id": "kTRZeMyz9Kxl"
      },
      "outputs": [],
      "source": [],
      "id": "kTRZeMyz9Kxl"
    },
    {
      "cell_type": "markdown",
      "metadata": {
        "id": "_6WQJMWq9Kxl"
      },
      "source": [
        "# <font color='red'>Problem 5</font>\n",
        "\n",
        "#### *remember to complete part (1) to in hw1.pdf"
      ],
      "id": "_6WQJMWq9Kxl"
    },
    {
      "cell_type": "markdown",
      "metadata": {
        "id": "omDgNZCn9Kxm"
      },
      "source": [
        "# Imports\n",
        "Run this code to import necessary modules. Note that the functions ``cost_function`` and ``gradient`` imported from module ``gd`` are stubs. You will need to fill in the code in ``gd.py``."
      ],
      "id": "omDgNZCn9Kxm"
    },
    {
      "cell_type": "code",
      "execution_count": 1,
      "metadata": {
        "id": "2hMP4qYp9Kxn"
      },
      "outputs": [],
      "source": [
        "%matplotlib inline\n",
        "\n",
        "%load_ext autoreload\n",
        "%autoreload 2\n",
        "\n",
        "\n",
        "import numpy as np\n",
        "import matplotlib.pyplot as plt\n",
        "from IPython.display import display, clear_output\n",
        "\n",
        "from gd import cost_function, gradient  # stubs"
      ],
      "id": "2hMP4qYp9Kxn"
    },
    {
      "cell_type": "markdown",
      "metadata": {
        "id": "IyZW3shB9Kxp"
      },
      "source": [
        "# Create a simple data set\n",
        "\n",
        "Run this cell to generate and plot some data from the linear model $y \\approx -1 + 2x$, that is, $\\theta_0 = -1$ and  $\\theta_1 = 2$."
      ],
      "id": "IyZW3shB9Kxp"
    },
    {
      "cell_type": "code",
      "execution_count": 2,
      "metadata": {
        "id": "yexRnWS99Kxq",
        "colab": {
          "base_uri": "https://localhost:8080/",
          "height": 334
        },
        "outputId": "92793cbd-51aa-45ad-afe8-791d6b316e75"
      },
      "outputs": [
        {
          "output_type": "stream",
          "name": "stdout",
          "text": [
            "[ 0.48813504  2.15189366  1.02763376  0.44883183 -0.76345201  1.45894113\n",
            " -0.62412789  3.91773001  4.63662761 -1.16558481  2.91725038  0.2889492\n",
            "  0.68044561  4.25596638 -4.28963942 -4.128707   -4.79781603  3.32619846\n",
            "  2.78156751  3.70012148]\n"
          ]
        },
        {
          "output_type": "display_data",
          "data": {
            "text/plain": [
              "<Figure size 432x288 with 1 Axes>"
            ],
            "image/png": "[encoded data removed]"
          },
          "metadata": {
            "needs_background": "light"
          }
        }
      ],
      "source": [
        "# Set the random seed so the program will always generate the same data\n",
        "np.random.seed(0)\n",
        "\n",
        "# Generate n random x values between -5 and 5\n",
        "n = 20\n",
        "x = 10 * np.random.rand(n) - 5\n",
        "\n",
        "#print(x)\n",
        "\n",
        "# Generate y values from the model y ~= 2x - 1\n",
        "epsilon = np.random.randn(n)\n",
        "y = -1 + 2*x + epsilon\n",
        "\n",
        "plt.plot(x, y, marker='o', linestyle='none')\n",
        "plt.show()"
      ],
      "id": "yexRnWS99Kxq"
    },
    {
      "cell_type": "markdown",
      "metadata": {
        "id": "acHntuAL9Kxr"
      },
      "source": [
        "# TODO: implement the cost function\n",
        "The squared error cost function is\n",
        "$$\\frac{1}{2} \\sum_{i=1}^m \\big(h_\\theta(x^{(i)}) - y^{(i)}\\big)^2.$$\n",
        "Open the file ``gd.py`` and implement ``cost_function``. Then run this cell to test it out."
      ],
      "id": "acHntuAL9Kxr"
    },
    {
      "cell_type": "code",
      "execution_count": 3,
      "metadata": {
        "id": "At12gSoz9Kxs",
        "colab": {
          "base_uri": "https://localhost:8080/"
        },
        "outputId": "b2b75d70-f9b5-4c4e-ac5b-c1a628eab9f5"
      },
      "outputs": [
        {
          "output_type": "stream",
          "name": "stdout",
          "text": [
            "104.77295199433607\n",
            "744.9538220768487\n",
            "14.090816198013721\n"
          ]
        }
      ],
      "source": [
        "print(cost_function(x, y, 0,  1))   # should print 104.772951994\n",
        "print(cost_function(x, y, 2, -1))   # should print 744.953822077\n",
        "print(cost_function(x, y, -1, 2))   # should print 14.090816198"
      ],
      "id": "At12gSoz9Kxs"
    },
    {
      "cell_type": "markdown",
      "metadata": {
        "id": "Kq0ndIrg9Kxt"
      },
      "source": [
        "# Plotting setup\n",
        "Run this cell. It sets up a routine ``plot_model`` that will be called later to illustrate the progress of gradient descent."
      ],
      "id": "Kq0ndIrg9Kxt"
    },
    {
      "cell_type": "code",
      "execution_count": 4,
      "metadata": {
        "id": "5jOKfn9h9Kxu",
        "colab": {
          "base_uri": "https://localhost:8080/",
          "height": 34
        },
        "outputId": "d967e966-2d76-47b1-dd76-5dd8038d9653"
      },
      "outputs": [
        {
          "output_type": "display_data",
          "data": {
            "text/plain": [
              "<Figure size 720x288 with 0 Axes>"
            ]
          },
          "metadata": {}
        }
      ],
      "source": [
        "# Construct a dense grid of (theta_0, theta_1) values\n",
        "theta0_vals = np.linspace(-10, 10)\n",
        "theta1_vals = np.linspace(-10, 10)\n",
        "[THETA0, THETA1] = np.meshgrid(theta0_vals, theta1_vals)\n",
        "\n",
        "# Define a cost function that has x and y \"baked in\"\n",
        "def mycost(theta0, theta1):\n",
        "    return cost_function(x, y, theta0, theta1)\n",
        "\n",
        "# Now vectorize this cost function and apply it simultaneously to all\n",
        "# pairs in dense grid of (theta_0, theta_1) values\n",
        "mycost_vectorized = np.vectorize(mycost)\n",
        "J_SURF = mycost_vectorized(THETA0, THETA1)\n",
        "\n",
        "# Define the test inputs\n",
        "x_test = np.linspace(-5, 5, 100)\n",
        "\n",
        "fig = plt.figure(1, figsize=(10,4))\n",
        "\n",
        "# Create the figure\n",
        "def init_plot():\n",
        "    fig.clf();\n",
        "\n",
        "    # Build left subplot (cost function)\n",
        "    ax1 = fig.add_subplot(1, 2, 1); \n",
        "    ax1.contour(THETA0, THETA1, J_SURF, 20)\n",
        "    ax1.set_xlabel('Intercept theta_0')\n",
        "    ax1.set_ylabel('Slope theta_1')\n",
        "    ax1.set_xlim([-10, 10])\n",
        "    ax1.set_ylim([-10, 10])\n",
        "\n",
        "    # The data will be added later for these plot elements:\n",
        "    line, = ax1.plot([], []);\n",
        "    dot,  = ax1.plot([], [], marker='o');\n",
        "\n",
        "    # Build right subplot (data + current hypothesis)\n",
        "    ax2 = fig.add_subplot(1, 2, 2);\n",
        "    ax2.plot(x, y, marker='o', linestyle='none') \n",
        "    ax2.set_xlim([-6, 6])\n",
        "    ax2.set_ylim([-10, 10])\n",
        "\n",
        "    # The data will be added later for this:\n",
        "    hyp, = ax2.plot( x_test, 0*x_test )\n",
        "    \n",
        "    return line, dot, hyp\n",
        "\n",
        "\n",
        "# Define a function to update the plot\n",
        "def update_plot(theta_0, theta_1, line, dot, hyp):\n",
        "    line.set_xdata( np.append(line.get_xdata(), theta_0 ) )\n",
        "    line.set_ydata( np.append(line.get_ydata(), theta_1 ) )\n",
        "    dot.set_xdata([theta_0])\n",
        "    dot.set_ydata([theta_1])\n",
        "    hyp.set_ydata( theta_0 + theta_1 * x_test )"
      ],
      "id": "5jOKfn9h9Kxu"
    },
    {
      "cell_type": "markdown",
      "metadata": {
        "collapsed": true,
        "id": "95fUfJ0L9Kxv"
      },
      "source": [
        "# TODO: implement gradient descent\n",
        "\n",
        "In this cell you will implement gradient descent. Follow these steps:\n",
        "\n",
        "1. Review the mathematical expressions for $\\frac{\\partial}{\\partial \\theta_0} J(\\theta_0, \\theta_1)$ and $\\frac{\\partial}{\\partial \\theta_1} J(\\theta_0, \\theta_1)$ for our model and cost funtion. (**Hint**: they are in the slides!)\n",
        "1. Implement the function ``gradient`` in ``gd.py`` to return these two partial derivatives.\n",
        "1. Complete the code below for gradient descent\n",
        "    * Select a step size\n",
        "    * Run for a fixed number of iterations (say, 20 or 200)\n",
        "    * Update theta_0 and theta_1 using the partial derivatives\n",
        "    * Record the value of the cost function attained in each iteration of gradient descent so you can examine its progress."
      ],
      "id": "95fUfJ0L9Kxv"
    },
    {
      "cell_type": "code",
      "execution_count": 14,
      "metadata": {
        "id": "2NVlNWFu9Kxw",
        "colab": {
          "base_uri": "https://localhost:8080/",
          "height": 284
        },
        "outputId": "a1eaaade-8954-4476-c36e-3fbaecfff801"
      },
      "outputs": [
        {
          "output_type": "display_data",
          "data": {
            "text/plain": [
              "<Figure size 720x288 with 2 Axes>"
            ],
            "image/png": "[encoded data removed]"
          },
          "metadata": {}
        }
      ],
      "source": [
        "line, dot, hyp = init_plot()\n",
        "\n",
        "iters = 300  # change as needed\n",
        "\n",
        "# TODO: intialize theta_0, theta_1, and step size\n",
        "theta_0 = 1\n",
        "theta_1 = 1\n",
        "step_size = 0.001\n",
        "costs = [None] * iters\n",
        "for i in range(0, iters):\n",
        "    \n",
        "    # Uncomment the code below to display progress of the algorithm so far\n",
        "    # as it runs. \n",
        "    #\n",
        "    clear_output(wait=True)\n",
        "    update_plot(theta_0, theta_1, line, dot, hyp)\n",
        "    display(fig)\n",
        "    \n",
        "    # TODO: write code to get partial derivatives (hint: call gradient in gd.py) \n",
        "    # and update theta_0 and theta_1\n",
        "    partial_derivatives = gradient(x,y,theta_0,theta_1)\n",
        "    theta_0 = theta_0 - step_size * partial_derivatives[0]\n",
        "    theta_1 = theta_1 - step_size * partial_derivatives[1]\n",
        "    costs[i] = cost_function(x,y,theta_0,theta_1)\n",
        "    #pass\n"
      ],
      "id": "2NVlNWFu9Kxw"
    },
    {
      "cell_type": "markdown",
      "metadata": {
        "id": "fAvEigh59Kxx"
      },
      "source": [
        "# TODO: assess convergence\n",
        "Plot the cost function vs. iteration. Did the algorithm converge? (Converging means it found the actual setting of $\\theta$ that minimizes the cost. If the cost went up or did not go down as far as it could, it did not converge.)"
      ],
      "id": "fAvEigh59Kxx"
    },
    {
      "cell_type": "code",
      "execution_count": 16,
      "metadata": {
        "id": "gn3WUbgz9Kxx",
        "colab": {
          "base_uri": "https://localhost:8080/",
          "height": 302
        },
        "outputId": "7dd8c203-c653-4ca3-b4d5-87d879ede53b"
      },
      "outputs": [
        {
          "output_type": "stream",
          "name": "stdout",
          "text": [
            "[97.84210090444081, 83.20869096788019, 72.65767104863279, 64.9515259514447, 59.23178435676405, 54.90277718842519, 51.55104902917775, 48.8894870750869, 46.71858626772488, 44.89959460385131, 43.33589474641735, 41.96009571278266, 40.72508326091253, 39.59781477813403, 38.555016895386785, 37.58020223980351, 36.661600736151584, 35.790724963057485, 34.96137510270505, 34.16894866744378, 33.40996153722177, 32.681715509203904, 31.982067435496308, 31.309268803536327, 30.661854166168375, 30.038563450964755, 29.43828776963713, 28.86003153144297, 28.302885871255878, 27.766009932888466, 27.248617608931514, 26.749968073733083, 26.269358955962993, 25.80612135067167, 25.359616115813218, 24.929231068111005, 24.514378810949616, 24.114495008660935, 23.729036978213085, 23.357482508588966, 22.99932884538302, 22.654091797040195, 22.321304932271016, 22.000518847274158, 21.69130048771456, 21.393232514792366, 21.105912707787983, 20.82895339759134, 20.56198092720221, 20.304635136221634, 20.056568867077424, 19.817447491235473, 19.586948454006805, 19.364760836816604, 19.15058493598353, 18.944131857191532, 18.745123124933485, 18.553290306279816, 18.368374648381216, 18.190126729158806, 18.01830612067041, 17.852681064671362, 17.69302815991258, 17.5391320607412, 17.390785186587685, 17.24778744194131, 17.109945946431715, 16.977074774649534, 16.84899470535292, 16.725532979720217, 16.60652306832169, 16.49180444649533, 16.381222377823093, 16.27462770541546, 16.171876650722254, 16.072830619598363, 15.977356015362654, 15.885324058597796, 15.79661061344785, 15.711096020179427, 15.628664933780394, 15.549206168378454, 15.472612547269804, 15.398780758355484, 15.3276112147904, 15.259007920657211, 15.192878341483716, 15.129133279429173, 15.067686752971179, 15.008455880930882, 14.951360770679955, 14.896324410378721, 14.843272565099943, 14.792133676698183, 14.74283876728974, 14.69532134621293, 14.649517320343188, 14.605364907642064, 14.562804553823511, 14.521778852025019, 14.482232465375269, 14.444112052353855, 14.407366194842448, 14.371945328770224, 14.337801677260225, 14.304889186186175, 14.273163462053201, 14.242581712118279, 14.213102686669973, 14.184686623389377, 14.157295193717365, 14.130891451155701, 14.105439781432342, 14.080905854463692, 14.057256578049007, 14.034460053234493, 14.012485531286922, 13.991303372218674, 13.97088500480831, 13.951202888062737, 13.932230474068964, 13.91394217218538, 13.896313314524194, 13.879320122678582, 13.862939675649523, 13.847149878929192, 13.831929434699136, 13.817257813103003, 13.803115224555238, 13.789482593048154, 13.776341530421591, 13.76367431156032, 13.751463850485813, 13.739693677310072, 13.72834791602052, 13.717411263065824, 13.706868966714032, 13.696706807154827, 13.68691107731945, 13.677468564392088, 13.668366531987989, 13.659592702974187, 13.651135242909696, 13.64298274408279, 13.6351242101239, 13.627549041173356, 13.620247019583886, 13.613208296138758, 13.606423376766772, 13.599883109736371, 13.593578673311434, 13.58750156385225, 13.581643584345498, 13.575996833347835, 13.57055369432817, 13.565306825394222, 13.560249149389513, 13.555373844347477, 13.550674334289727, 13.54614428035621, 13.541777572255034, 13.537568320020831, 13.533510846070032, 13.529599677542864, 13.525829538921288, 13.522195344913241, 13.518692193593404, 13.515315359791332, 13.512060288717967, 13.508922589821994, 13.505898030867705, 13.502982532226417, 13.500172161373744, 13.497463127585231, 13.494851776823376, 13.492334586808832, 13.489908162269533, 13.48756923036097, 13.4853146362517, 13.483141338867995, 13.481046406791918, 13.479027014307372, 13.477080437588615, 13.475204051026315, 13.473395323686047, 13.471651815894422, 13.469971175948436, 13.468351136943392, 13.466789513715215, 13.465284199893006, 13.463833165057961, 13.462434452004576, 13.461086174100833, 13.4597865127433, 13.458533714904252, 13.457326090767062, 13.456162011446947, 13.455039906793854, 13.453958263274616, 13.45291562193142, 13.451910576413907, 13.450941771082281, 13.450007899178734, 13.449107701064873, 13.448239962522655, 13.447403513116619, 13.446597224615166, 13.445820009468761, 13.445070819343002, 13.4443486437046, 13.443652508458316, 13.442981474633097, 13.442334637115552, 13.441711123429068, 13.44111009255707, 13.440530733808503, 13.43997226572447, 13.439433935024082, 13.438915015588478, 13.438414807481337, 13.437932636004842, 13.437467850789602, 13.437019824917401, 13.4365879540756, 13.436171655742024, 13.435770368399222, 13.43538355077708, 13.435010681122758, 13.434651256496894, 13.434304792095247, 13.433970820594759, 13.43364889152324, 13.433338570651744, 13.433039439408857, 13.432751094316092, 13.432473146443742, 13.432205220886184, 13.431946956256246, 13.431698004197768, 13.431458028915694, 13.431226706723118, 13.431003725604775, 13.430788784796082, 13.430581594377518, 13.43038187488356, 13.430189356925714, 13.430003780829153, 13.429824896282513, 13.429652462000156, 13.429486245396845, 13.429326022273923, 13.42917157651696, 13.429022699804229, 13.428879191325711, 13.428740857512278, 13.428607511774528, 13.42847897425118, 13.428355071566406, 13.428235636596028, 13.428120508242065, 13.428009531215462, 13.427902555826602, 13.42779943778341, 13.427700037996734, 13.427604222392757, 13.427511861732105, 13.427422831435544, 13.427337011415975, 13.42725428591641, 13.427174543353873, 13.42709767616886, 13.427023580680263, 13.426952156945584, 13.426883308626003, 13.426816942856584, 13.42675297012089, 13.426691304130305, 13.42663186170763, 13.426574562674888, 13.426519329745187, 13.426466088418461, 13.426414766880983, 13.426365295908507, 13.426317608772878, 13.426271641152073, 13.426227331043384, 13.426184618679816, 13.42614344644948, 13.426103758817856, 13.426065502252904, 13.426028625152865, 13.425993077776637, 13.4259588121767, 13.425925782134458, 13.425893943097847, 13.425863252121287, 13.425833667807726, 13.425805150252845, 13.425777660991182, 13.42575116294427]\n"
          ]
        },
        {
          "output_type": "display_data",
          "data": {
            "text/plain": [
              "<Figure size 432x288 with 1 Axes>"
            ],
            "image/png": "[encoded data removed]"
          },
          "metadata": {
            "needs_background": "light"
          }
        }
      ],
      "source": [
        "iterations = [i for i in range(iters)]\n",
        "#print(costs)\n",
        "plt.plot(iterations, costs, marker='o', linestyle='none')\n",
        "plt.show()"
      ],
      "id": "gn3WUbgz9Kxx"
    },
    {
      "cell_type": "markdown",
      "source": [
        "The algorithm appears to have converged. Reached a small error quickly and remained at that error with further runs."
      ],
      "metadata": {
        "id": "XwoZKk9wq5Xy"
      },
      "id": "XwoZKk9wq5Xy"
    },
    {
      "cell_type": "markdown",
      "metadata": {
        "id": "UApJEvMt9Kxy"
      },
      "source": [
        "# TODO: experiment with step size\n",
        "\n",
        "After you have completed the implementation, do some experiments with different numbers of iterations and step sizes to assess convergence of the algorithm. Report the following:\n",
        "* A step size for which the algorithm converges to the minimum in at most 200 iterations\n",
        "* A step size for which the algorithm converges, but it takes more than 200 iterations\n",
        "* A step size for which the algorithm does not converge, no matter how many iterations are run"
      ],
      "id": "UApJEvMt9Kxy"
    },
    {
      "cell_type": "markdown",
      "metadata": {
        "id": "YXubI2I89Kxy"
      },
      "source": [
        "** *Write your answer here*. **"
      ],
      "id": "YXubI2I89Kxy"
    },
    {
      "cell_type": "markdown",
      "source": [
        "Algorithm converges in less than 200 iterations with a step size of 0.01."
      ],
      "metadata": {
        "id": "OXY5UUYXrXAG"
      },
      "id": "OXY5UUYXrXAG"
    },
    {
      "cell_type": "code",
      "execution_count": 17,
      "metadata": {
        "id": "1c9Td3dW9Kxz",
        "colab": {
          "base_uri": "https://localhost:8080/",
          "height": 265
        },
        "outputId": "3db3d879-ed78-4de9-c101-90c91d6cc175"
      },
      "outputs": [
        {
          "output_type": "display_data",
          "data": {
            "text/plain": [
              "<Figure size 432x288 with 1 Axes>"
            ],
            "image/png": "[encoded data removed]"
          },
          "metadata": {
            "needs_background": "light"
          }
        }
      ],
      "source": [
        "line, dot, hyp = init_plot()\n",
        "\n",
        "iters = 200  # change as needed\n",
        "\n",
        "# TODO: intialize theta_0, theta_1, and step size\n",
        "theta_0 = 1\n",
        "theta_1 = 1\n",
        "step_size = 0.01\n",
        "costs = [None] * iters\n",
        "for i in range(0, iters):\n",
        "    \n",
        "    # Uncomment the code below to display progress of the algorithm so far\n",
        "    # as it runs. \n",
        "    #\n",
        "    # clear_output(wait=True)\n",
        "    # update_plot(theta_0, theta_1, line, dot, hyp)\n",
        "    # display(fig)\n",
        "    \n",
        "    # TODO: write code to get partial derivatives (hint: call gradient in gd.py) \n",
        "    # and update theta_0 and theta_1\n",
        "    partial_derivatives = gradient(x,y,theta_0,theta_1)\n",
        "    theta_0 = theta_0 - step_size * partial_derivatives[0]\n",
        "    theta_1 = theta_1 - step_size * partial_derivatives[1]\n",
        "    costs[i] = cost_function(x,y,theta_0,theta_1)\n",
        "    #pass\n",
        "iterations = [i for i in range(iters)]\n",
        "#print(costs)\n",
        "plt.plot(iterations, costs, marker='o', linestyle='none')\n",
        "plt.show()\n"
      ],
      "id": "1c9Td3dW9Kxz"
    },
    {
      "cell_type": "markdown",
      "source": [
        "Algorithm converges in more than 200 iterations with a step size of 0.0005."
      ],
      "metadata": {
        "id": "Ks0X9jGVrhsy"
      },
      "id": "Ks0X9jGVrhsy"
    },
    {
      "cell_type": "code",
      "execution_count": 20,
      "metadata": {
        "id": "YwqfSa1F9Kxz",
        "colab": {
          "base_uri": "https://localhost:8080/",
          "height": 265
        },
        "outputId": "483ff83c-83b4-49c9-ce98-3ebe54ae1291"
      },
      "outputs": [
        {
          "output_type": "display_data",
          "data": {
            "text/plain": [
              "<Figure size 432x288 with 1 Axes>"
            ],
            "image/png": "[encoded data removed]"
          },
          "metadata": {
            "needs_background": "light"
          }
        }
      ],
      "source": [
        "line, dot, hyp = init_plot()\n",
        "\n",
        "iters = 300  # change as needed\n",
        "\n",
        "# TODO: intialize theta_0, theta_1, and step size\n",
        "theta_0 = 1\n",
        "theta_1 = 1\n",
        "step_size = 0.0005\n",
        "costs = [None] * iters\n",
        "for i in range(0, iters):\n",
        "    \n",
        "    # Uncomment the code below to display progress of the algorithm so far\n",
        "    # as it runs. \n",
        "    #\n",
        "    # clear_output(wait=True)\n",
        "    # update_plot(theta_0, theta_1, line, dot, hyp)\n",
        "    # display(fig)\n",
        "    \n",
        "    # TODO: write code to get partial derivatives (hint: call gradient in gd.py) \n",
        "    # and update theta_0 and theta_1\n",
        "    partial_derivatives = gradient(x,y,theta_0,theta_1)\n",
        "    theta_0 = theta_0 - step_size * partial_derivatives[0]\n",
        "    theta_1 = theta_1 - step_size * partial_derivatives[1]\n",
        "    costs[i] = cost_function(x,y,theta_0,theta_1)\n",
        "    #pass\n",
        "iterations = [i for i in range(iters)]\n",
        "#print(costs)\n",
        "plt.plot(iterations, costs, marker='o', linestyle='none')\n",
        "plt.show()"
      ],
      "id": "YwqfSa1F9Kxz"
    },
    {
      "cell_type": "markdown",
      "source": [
        "Algorithm doesn't converge with a step size of 0.05"
      ],
      "metadata": {
        "id": "w7e77cBXrrrH"
      },
      "id": "w7e77cBXrrrH"
    },
    {
      "cell_type": "code",
      "execution_count": 32,
      "metadata": {
        "id": "TGoRrvre9Kxz",
        "colab": {
          "base_uri": "https://localhost:8080/",
          "height": 276
        },
        "outputId": "6703c07d-8f16-4db9-d56d-d1c254fa9fa9"
      },
      "outputs": [
        {
          "output_type": "display_data",
          "data": {
            "text/plain": [
              "<Figure size 432x288 with 1 Axes>"
            ],
            "image/png": "[encoded data removed]"
          },
          "metadata": {
            "needs_background": "light"
          }
        }
      ],
      "source": [
        "line, dot, hyp = init_plot()\n",
        "\n",
        "iters = 100  # change as needed\n",
        "\n",
        "# TODO: intialize theta_0, theta_1, and step size\n",
        "theta_0 = 1\n",
        "theta_1 = 1\n",
        "step_size = 0.05\n",
        "costs = [None] * iters\n",
        "for i in range(0, iters):\n",
        "    \n",
        "    # Uncomment the code below to display progress of the algorithm so far\n",
        "    # as it runs. \n",
        "    #\n",
        "    # clear_output(wait=True)\n",
        "    # update_plot(theta_0, theta_1, line, dot, hyp)\n",
        "    # display(fig)\n",
        "    \n",
        "    # TODO: write code to get partial derivatives (hint: call gradient in gd.py) \n",
        "    # and update theta_0 and theta_1\n",
        "    partial_derivatives = gradient(x,y,theta_0,theta_1)\n",
        "    theta_0 = theta_0 - step_size * partial_derivatives[0]\n",
        "    theta_1 = theta_1 - step_size * partial_derivatives[1]\n",
        "    costs[i] = cost_function(x,y,theta_0,theta_1)\n",
        "    #pass\n",
        "iterations = [i for i in range(iters)]\n",
        "#print(costs)\n",
        "plt.plot(iterations, costs, marker='o', linestyle='none')\n",
        "plt.show()"
      ],
      "id": "TGoRrvre9Kxz"
    },
    {
      "cell_type": "code",
      "source": [],
      "metadata": {
        "id": "nZUf3oewsKET"
      },
      "id": "nZUf3oewsKET",
      "execution_count": null,
      "outputs": []
    },
    {
      "cell_type": "markdown",
      "metadata": {
        "id": "uvJffFKO9Kx0"
      },
      "source": [
        "# <font color='red'>Problem 6</font>"
      ],
      "id": "uvJffFKO9Kx0"
    },
    {
      "cell_type": "markdown",
      "metadata": {
        "id": "3n7eTXwF9Kx0"
      },
      "source": [
        "# Problem Description\n",
        "\n",
        "This notebook will guide you through implementation of **multivariate linear regression** to to solve the **polynomial regression** problem:\n",
        "\n",
        "$$\n",
        "h_{\\theta}(x) = \\theta_0 + \\theta_1 x + \\theta_2 x^2 +  \\theta_3 x^3 + \\theta_4 x^4\n",
        "= \\boldsymbol{\\theta}^T \\mathbf{x}\n",
        "$$\n",
        "\n",
        "$$\n",
        "\\boldsymbol{\\theta} = \\begin{bmatrix}\\theta_0 \\\\ \\theta_1 \\\\ \\theta_2 \\\\ \\theta_3 \\\\ \\theta_4\\end{bmatrix}, \n",
        "\\qquad\n",
        "\\mathbf{x} = \\begin{bmatrix}1 \\\\ x \\\\ x^2 \\\\ x^3 \\\\ x^4\\end{bmatrix}\n",
        "$$\n",
        "\n",
        "Below, you will\n",
        "\n",
        "1. Implement the cost function for multivarate linear regression\n",
        "1. Implement the normal equations method to solve a multivariate linear regression problem\n",
        "1. Implement gradient descent for multivariate linear regression\n",
        "1. Experiment with feature normalization to improve the convergence of gradient descent\n"
      ],
      "id": "3n7eTXwF9Kx0"
    },
    {
      "cell_type": "markdown",
      "metadata": {
        "id": "WYXS_5zh9Kx1"
      },
      "source": [
        "## Imports\n",
        "Run this code."
      ],
      "id": "WYXS_5zh9Kx1"
    },
    {
      "cell_type": "code",
      "execution_count": 1,
      "metadata": {
        "id": "57bJ9p0i9Kx1"
      },
      "outputs": [],
      "source": [
        "%matplotlib inline\n",
        "\n",
        "import numpy as np\n",
        "import matplotlib.pyplot as plt"
      ],
      "id": "57bJ9p0i9Kx1"
    },
    {
      "cell_type": "markdown",
      "metadata": {
        "id": "nrtVIsOc9Kx1"
      },
      "source": [
        "## Helper functions\n",
        "Run this code to set up the helper functions. The function ``feature_expansion`` accepts an vector of $n$ scalar x values and returns an $n \\times 5$ data matrix by applying the feature expansion $x \\mapsto [1, x, x^2, x^3, x^4]$ to each scalar $x$ value."
      ],
      "id": "nrtVIsOc9Kx1"
    },
    {
      "cell_type": "code",
      "execution_count": 2,
      "metadata": {
        "id": "yCeWdf999Kx2"
      },
      "outputs": [],
      "source": [
        "def feature_expansion(x, deg):\n",
        "    if x.ndim > 1:\n",
        "        raise ValueError('x should be a 1-dimensional array')\n",
        "    m = x.shape\n",
        "    x_powers = [x**k for k in range(0,deg+1)]\n",
        "    X = np.stack( x_powers, axis=1 )\n",
        "\n",
        "    return X\n",
        "\n",
        "def plot_model(X_test, theta):\n",
        "    '''\n",
        "    Note: uses globals x, y, x_test, which are assigned below\n",
        "    when the dataset is created. Don't overwrite these variables.\n",
        "    '''\n",
        "    y_test = np.dot(X_test, theta)\n",
        "    plt.scatter(x, y)\n",
        "    plt.plot(x_test, y_test)\n",
        "    plt.legend(['Test', 'Train'])"
      ],
      "id": "yCeWdf999Kx2"
    },
    {
      "cell_type": "markdown",
      "metadata": {
        "id": "F925kopn9Kx2"
      },
      "source": [
        "## (2 points) List comprehensions\n",
        "\n",
        "Read about list comprehensions. Explain what is happening in the line of code\n",
        "\n",
        "```python\n",
        "x_powers = [x**k for k in range(0,deg+1)]\n",
        "```"
      ],
      "id": "F925kopn9Kx2"
    },
    {
      "cell_type": "markdown",
      "metadata": {
        "id": "5s576yBY9Kx3"
      },
      "source": [
        "You are creating a list with degree + 1 elements in which each element is x to the power of (index), so that x_powers[0] = 1, x_powers[1] = x, x_powers[2] = x^2, and so forth up to x_powers[deg] = x^deg (if deg >= 2, since x_powers can only have deg+1 elements)."
      ],
      "id": "5s576yBY9Kx3"
    },
    {
      "cell_type": "markdown",
      "metadata": {
        "id": "lHn5H6CB9Kx3"
      },
      "source": [
        "## Create a data set for polynomial regression\n",
        "\n",
        "Read and run the code below. This generates data from a fourth-degree polynomial and then uses feature expansion to set up the problem of learning the polynomial as multivariate linear regression"
      ],
      "id": "lHn5H6CB9Kx3"
    },
    {
      "cell_type": "code",
      "execution_count": 3,
      "metadata": {
        "id": "UObcTwIU9Kx4",
        "colab": {
          "base_uri": "https://localhost:8080/",
          "height": 295
        },
        "outputId": "a4367a6d-bac7-42b8-ddc7-80c674aeb247"
      },
      "outputs": [
        {
          "output_type": "display_data",
          "data": {
            "text/plain": [
              "<Figure size 432x288 with 1 Axes>"
            ],
            "image/png": "[encoded data removed]"
          },
          "metadata": {
            "needs_background": "light"
          }
        }
      ],
      "source": [
        "# Set random seed\n",
        "np.random.seed(0)\n",
        "\n",
        "# Create random set of m training x values between -5 and 5\n",
        "m = 100\n",
        "x = np.random.rand(m)*10 - 5   \n",
        "\n",
        "# Create evenly spaced test x values (for plotting)\n",
        "x_test  = np.linspace(-5, 5, 100)\n",
        "m_test  = len(x_test);\n",
        "\n",
        "# Feature expansion for training and test x values\n",
        "deg = 4\n",
        "X      = feature_expansion(x, deg)\n",
        "X_test = feature_expansion(x_test, deg)\n",
        "\n",
        "n = deg + 1   # total number of features including the '1' feature\n",
        "\n",
        "# Define parameters (theta) and generate y values\n",
        "theta = 0.1*np.array([1, 1, 10, 0.5, -0.5]);\n",
        "y = np.dot(X, theta) + np.random.randn(m)   # polynomial plus noise\n",
        "\n",
        "# Plot the training data\n",
        "plt.scatter(x, y)\n",
        "plt.title('Training Data')\n",
        "plt.xlabel('x')\n",
        "plt.ylabel('y')\n",
        "plt.show()\n"
      ],
      "id": "UObcTwIU9Kx4"
    },
    {
      "cell_type": "markdown",
      "metadata": {
        "id": "lsE8LKi_9Kx4"
      },
      "source": [
        "## (2 points) Implement the cost function\n",
        "Complete the code below to implement the cost function for multivariate linear regression."
      ],
      "id": "lsE8LKi_9Kx4"
    },
    {
      "cell_type": "code",
      "execution_count": 4,
      "metadata": {
        "id": "QYKhRn099Kx5"
      },
      "outputs": [],
      "source": [
        "def cost_function(X, y, theta):  \n",
        "    '''\n",
        "    Compute the cost function for a particular data set and \n",
        "    hypothesis (parameter vector)\n",
        "    \n",
        "    Inputs: \n",
        "        X       m x n data matrix\n",
        "        y       training output (length m vector)\n",
        "        theta   parameters (length n vector)\n",
        "    Output:\n",
        "        cost    the value of the cost function (scalar)\n",
        "    '''\n",
        "    # TODO: write correct code to compute the cost function\n",
        "    #cost = 0\n",
        "    temp = np.matmul(X,theta) - y\n",
        "    cost = 0.5 * np.dot(np.transpose(temp), temp)\n",
        "    return cost"
      ],
      "id": "QYKhRn099Kx5"
    },
    {
      "cell_type": "markdown",
      "metadata": {
        "id": "pofOP6VO9Kx6"
      },
      "source": [
        "## Test the cost function\n",
        "Run this to test your cost function."
      ],
      "id": "pofOP6VO9Kx6"
    },
    {
      "cell_type": "code",
      "execution_count": 5,
      "metadata": {
        "id": "_aXAFqQd9Kx6",
        "colab": {
          "base_uri": "https://localhost:8080/"
        },
        "outputId": "82878724-319e-4c71-ac21-9224ac8d1771"
      },
      "outputs": [
        {
          "output_type": "stream",
          "name": "stdout",
          "text": [
            "Cost function (random): 54523.64\n",
            "Cost function  (zeros): 845.65\n",
            "Cost function   (ones): 2524681.08\n"
          ]
        }
      ],
      "source": [
        "np.random.seed(1)\n",
        "\n",
        "theta_random = np.random.rand(n)\n",
        "theta_zeros  = np.zeros(n)\n",
        "theta_ones   = np.ones(n)\n",
        "\n",
        "print( \"Cost function (random): %.2f\" % cost_function(X, y, theta_random))  # prints 54523.64\n",
        "print( \"Cost function  (zeros): %.2f\" % cost_function(X, y, theta_zeros))   # prints 845.65\n",
        "print( \"Cost function   (ones): %.2f\" % cost_function(X, y, theta_ones))    # prints 2524681.08"
      ],
      "id": "_aXAFqQd9Kx6"
    },
    {
      "cell_type": "markdown",
      "metadata": {
        "id": "QSPVIfxl9Kx7"
      },
      "source": [
        "## (6 points) Implement first training algorithm: normal equations"
      ],
      "id": "QSPVIfxl9Kx7"
    },
    {
      "cell_type": "code",
      "execution_count": 6,
      "metadata": {
        "id": "QDZs6NCV9Kx7"
      },
      "outputs": [],
      "source": [
        "def normal_equations(X, y):\n",
        "    '''\n",
        "    Train a linear regression model using the normal equations\n",
        "\n",
        "    Inputs: \n",
        "        X       m x n data matrix\n",
        "        y       training output (length m vector)\n",
        "    Output:\n",
        "        theta   parameters (length n vector)\n",
        "\n",
        "    '''\n",
        "    # TODO: write correct code to find theta using the normal equations\n",
        "    m, n = X.shape\n",
        "    theta = np.zeros(n)\n",
        "    step1 = np.linalg.inv(np.matmul(np.transpose(X), X))\n",
        "    step2 = np.matmul(step1, np.transpose(X))\n",
        "    step3 = np.matmul(step2, y)\n",
        "    return step3"
      ],
      "id": "QDZs6NCV9Kx7"
    },
    {
      "cell_type": "markdown",
      "metadata": {
        "id": "LWw1YKDq9Kx8"
      },
      "source": [
        "## Use normal equations to fit the model\n",
        "Run this code to test your implementation of the normal equations. If it runs properly you will see a curve that fits the data well. Note the value of the cost function for ``theta_normal_equations``."
      ],
      "id": "LWw1YKDq9Kx8"
    },
    {
      "cell_type": "code",
      "execution_count": 7,
      "metadata": {
        "id": "ac3ceYuh9Kx8",
        "colab": {
          "base_uri": "https://localhost:8080/",
          "height": 285
        },
        "outputId": "6452f5a3-aad8-4f68-b2c8-db8aaeec6409"
      },
      "outputs": [
        {
          "output_type": "stream",
          "name": "stdout",
          "text": [
            "Cost function: 48.54\n"
          ]
        },
        {
          "output_type": "display_data",
          "data": {
            "text/plain": [
              "<Figure size 432x288 with 1 Axes>"
            ],
            "image/png": "[encoded data removed]"
          },
          "metadata": {
            "needs_background": "light"
          }
        }
      ],
      "source": [
        "theta_normal_equations = normal_equations(X, y)\n",
        "#print(len(theta_normal_equations))\n",
        "#print(len(X_test))\n",
        "plot_model(X_test, theta_normal_equations)\n",
        "print (\"Cost function: %.2f\" % cost_function(X, y, theta_normal_equations))"
      ],
      "id": "ac3ceYuh9Kx8"
    },
    {
      "cell_type": "markdown",
      "metadata": {
        "id": "xceJPkoE9Kx9"
      },
      "source": [
        "## (6 points) Implement second training algorithm: (vectorized) gradient descent\n",
        "\n",
        "Implement gradient descent for multivariate linear regression. Make sure your solution is vectorized."
      ],
      "id": "xceJPkoE9Kx9"
    },
    {
      "cell_type": "code",
      "execution_count": 8,
      "metadata": {
        "id": "WogGV1sZ9Kx9"
      },
      "outputs": [],
      "source": [
        "def gradient_descent( X, y, alpha, iters, theta=None ):\n",
        "    '''\n",
        "    Train a linear regression model by gradient descent\n",
        "\n",
        "    Inputs: \n",
        "        X       m x n data matrix\n",
        "        y       training output (length m vector)\n",
        "        alpha   step size\n",
        "        iters   number of iterations\n",
        "        theta   initial parameter values (length n vector; optional)\n",
        "    \n",
        "    Output:\n",
        "        theta      learned parameters (length n vector)\n",
        "        J_history  trace of cost function value in each iteration\n",
        "\n",
        "    '''\n",
        "\n",
        "    m,n = X.shape\n",
        "    \n",
        "    if theta is None:\n",
        "        theta = np.zeros(n)\n",
        "        #theta = nprandom.rand(n)\n",
        "    #print(len(theta))\n",
        "    # For recording cost function value during gradient descent\n",
        "    J_history = np.zeros(iters)\n",
        "    #print(len(theta))\n",
        "    for i in range(0, iters):\n",
        "        #print(len(theta))\n",
        "        # TODO: compute gradient (vectorized) and update theta\n",
        "        #print(\"Theta: \")\n",
        "        #print(theta)\n",
        "        step1 = np.dot(X, theta) #X * theta\n",
        "        #print(\"X * theta\")\n",
        "        #print(step1)\n",
        "        #print(y)\n",
        "        step2 = step1 - y # x* theta - y\n",
        "        #print(\"X * theta - y\")\n",
        "        #print(step2)\n",
        "        step3 = np.dot(np.transpose(X),step2) #x transpose * (x * theta - y)\n",
        "        step4 = alpha * step3 #alpha * x transpose * (x * theta - y)\n",
        "        #print(\"Step 3\")\n",
        "        #print(step3)\n",
        "        theta = theta - step4 \n",
        "\n",
        "        # Record cost function\n",
        "        J_history[i] = cost_function(X, y, theta)\n",
        "        #print(J_history[i])\n",
        "        #print(len(theta))\n",
        "    return theta, J_history\n",
        "#theta_gradient_descent = gradient_descent(X,y,0.01,5,None)"
      ],
      "id": "WogGV1sZ9Kx9"
    },
    {
      "cell_type": "code",
      "source": [
        "#A toy model with X and Y (5x5 matrices instead of 100x5)\n",
        "#Purely for debugging purposes\n",
        "toyX  = np.linspace(-5, 5, 5)\n",
        "# Feature expansion for training and test x values\n",
        "deg = 4\n",
        "toyX = feature_expansion(toyX, deg)\n",
        "\n",
        "n = deg + 1   # total number of features including the '1' feature\n",
        "\n",
        "# Define parameters (theta) and generate y values\n",
        "toyTheta = 0.1*np.array([1, 1, 10, 0.5, -0.5]);\n",
        "toyY = np.dot(toyX, toyTheta) + np.random.randn(5)   # polynomial plus noise\n",
        "print(toyX)\n",
        "print(toyY)\n",
        "iter = 100\n",
        "theta_gradient_descent, costs = gradient_descent(toyX,toyY,0.1,iter,None)\n"
      ],
      "metadata": {
        "id": "RbweFJ-QHpav"
      },
      "id": "RbweFJ-QHpav",
      "execution_count": null,
      "outputs": []
    },
    {
      "cell_type": "markdown",
      "metadata": {
        "id": "Le4uJ6VP9Kx-"
      },
      "source": [
        "## (4 points) Use gradient descent to train the model\n",
        "* Write code to call your ``gradient_descent`` method to learn parameter\n",
        "* Plot the model fit (use ``plot_model``)\n",
        "* Plot the cost function vs. iteration to help assess convergence\n",
        "* Print the final value of the cost function\n",
        "* Experiment with different step sizes and numbers of iterations until you can find a good hypothesis. Try to match the cost function value from ``normal_equations`` to two decimal places. How many iterations does this take?"
      ],
      "id": "Le4uJ6VP9Kx-"
    },
    {
      "cell_type": "markdown",
      "source": [
        "If I use a step size larger than 0.0000004, theta and cost function explode to infinity for no clear reason. If I use 0.0000004, it takes ~200,000 iterations to match the true minimum to 2 decimal places."
      ],
      "metadata": {
        "id": "hiHYBasHZu16"
      },
      "id": "hiHYBasHZu16"
    },
    {
      "cell_type": "code",
      "execution_count": 10,
      "metadata": {
        "id": "r7GrcDxQ9Kx-",
        "colab": {
          "base_uri": "https://localhost:8080/",
          "height": 533
        },
        "outputId": "21407375-cd4d-44c0-fb28-1e3c8341d48e"
      },
      "outputs": [
        {
          "output_type": "display_data",
          "data": {
            "text/plain": [
              "<Figure size 432x288 with 1 Axes>"
            ],
            "image/png": "[encoded data removed]"
          },
          "metadata": {
            "needs_background": "light"
          }
        },
        {
          "output_type": "display_data",
          "data": {
            "text/plain": [
              "<Figure size 432x288 with 1 Axes>"
            ],
            "image/png": "[encoded data removed]"
          },
          "metadata": {
            "needs_background": "light"
          }
        },
        {
          "output_type": "stream",
          "name": "stdout",
          "text": [
            "48.54854579982257\n"
          ]
        }
      ],
      "source": [
        "# TODO: write code\n",
        "iter = 200000\n",
        "theta_gradient_descent, costs = gradient_descent(X,y,0.0000004,iter,None)\n",
        "#print(len(theta_gradient_descent))\n",
        "#print(len(X_test))\n",
        "plot_model(X_test, theta_gradient_descent)\n",
        "plt.show()\n",
        "iterations = [i for i in range(iter)]\n",
        "plt.plot(iterations, costs, marker='o', linestyle='none')\n",
        "plt.show()\n",
        "print(costs[-1])"
      ],
      "id": "r7GrcDxQ9Kx-"
    },
    {
      "cell_type": "markdown",
      "metadata": {
        "collapsed": true,
        "id": "ePaTSVLP9Kx_"
      },
      "source": [
        "## (10 points) Gradient descent with feature normalization\n",
        "You should have observed\n",
        "that it takes many iterations of gradient descent to match the cost\n",
        "function value achieved by the normal equations. Now\n",
        "you will implement feature normalization to improve the convergence\n",
        "of gradient descent. Remember that the formula\n",
        "for feature normalization is:\n",
        "\n",
        "$$x^{(i)}_j \\leftarrow \\frac{x^{(i)}_j - \\mu_j}{\\sigma_j}$$\n",
        "\n",
        "Here are some guidelines for the implementation:\n",
        "\n",
        "* The same transformation should be applied to train and test data.\n",
        "\n",
        "* The values $\\mu_j$ and $\\sigma_j$ are the mean and standard deviation of\n",
        "the $j$th column (i.e., feature) in the **training data**. (Hint:\n",
        "there are numpy functions to compute these.)\n",
        "\n",
        "* Do not normalize the column of all ones. (Optional question: why?)\n",
        "\n",
        "* Use broadcasting to do the normalization--don't write for loops\n",
        "\n",
        "After normalizing both the training data and test data, follow the same steps as above to experiment with gradient descent using the *normalized* training and test data: print the value of the cost function, and create the same plots. Tune the step size and number of iterations again to make gradient descent converge as quickly as possible. How many iterations does it take to match the cost function value from ``normal_equations`` to two decimal places?  \n"
      ],
      "id": "ePaTSVLP9Kx_"
    },
    {
      "cell_type": "code",
      "execution_count": 11,
      "metadata": {
        "id": "IHX0O_Nr9Kx_",
        "colab": {
          "base_uri": "https://localhost:8080/",
          "height": 534
        },
        "outputId": "85c1ecc7-4d97-4239-d75c-1b67551a5fe7"
      },
      "outputs": [
        {
          "output_type": "display_data",
          "data": {
            "text/plain": [
              "<Figure size 432x288 with 1 Axes>"
            ],
            "image/png": "[encoded data removed]"
          },
          "metadata": {
            "needs_background": "light"
          }
        },
        {
          "output_type": "display_data",
          "data": {
            "text/plain": [
              "<Figure size 432x288 with 1 Axes>"
            ],
            "image/png": "[encoded data removed]"
          },
          "metadata": {
            "needs_background": "light"
          }
        },
        {
          "output_type": "stream",
          "name": "stdout",
          "text": [
            "48.54896295296291\n"
          ]
        }
      ],
      "source": [
        "# TODO: your code for gradient descent with feature normalization\n",
        "#Get the mean of each column of X (except column 0)\n",
        "data_means = X.mean(0)\n",
        "data_means[0] = 0\n",
        "\n",
        "test_means = X_test.mean(0)\n",
        "test_means[0] = 0\n",
        "#Subtract the mean of each column from each column\n",
        "normX = X - data_means\n",
        "normTestX = X_test - test_means\n",
        "#Get the standard deviation of each column of X (except column 0)\n",
        "data_stds = np.std(X, axis=0)\n",
        "data_stds[0] = 1\n",
        "\n",
        "test_stds = np.std(X_test, axis = 0)\n",
        "test_stds[0] = 1\n",
        "#print(data_stds)\n",
        "#Divide each column by its standard deviation\n",
        "normX = normX / data_stds\n",
        "normTestX = normTestX / test_stds\n",
        "# TODO: write code\n",
        "iter = 160\n",
        "theta_gradient_descent, costs = gradient_descent(normX,y,0.0092,iter,None)\n",
        "#print(len(theta_gradient_descent))\n",
        "#print(len(X_test))\n",
        "plot_model(normTestX, theta_gradient_descent)\n",
        "plt.show()\n",
        "iterations = [i for i in range(iter)]\n",
        "plt.plot(iterations, costs, marker='o', linestyle='none')\n",
        "plt.show()\n",
        "print(costs[-1])"
      ],
      "id": "IHX0O_Nr9Kx_"
    },
    {
      "cell_type": "markdown",
      "metadata": {
        "id": "8ziAWow09KyA"
      },
      "source": [
        "It only takes ~160 instead of ~200,000 iterations to converge to the correct value within two decimal places, since you can use a larger step size without getting infinite errors."
      ],
      "id": "8ziAWow09KyA"
    }
  ],
  "metadata": {
    "kernelspec": {
      "display_name": "Python 3",
      "language": "python",
      "name": "python3"
    },
    "language_info": {
      "codemirror_mode": {
        "name": "ipython",
        "version": 3
      },
      "file_extension": ".py",
      "mimetype": "text/x-python",
      "name": "python",
      "nbconvert_exporter": "python",
      "pygments_lexer": "ipython3",
      "version": "3.8.5"
    },
    "colab": {
      "provenance": [],
      "collapsed_sections": []
    }
  },
  "nbformat": 4,
  "nbformat_minor": 5
}